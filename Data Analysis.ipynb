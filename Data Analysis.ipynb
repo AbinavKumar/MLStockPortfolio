{
 "cells": [
  {
   "cell_type": "markdown",
   "metadata": {},
   "source": [
    "# DATA ANALYSIS"
   ]
  },
  {
   "cell_type": "code",
   "execution_count": 5,
   "metadata": {},
   "outputs": [],
   "source": [
    "import numpy as np\n",
    "import pandas as pd\n",
    "import datetime as dt\n",
    "from collections import Counter \n",
    "\n",
    "from sklearn.model_selection import GridSearchCV"
   ]
  },
  {
   "cell_type": "code",
   "execution_count": 6,
   "metadata": {},
   "outputs": [],
   "source": [
    "# Import and touch up ticker data\n",
    "sp500 = pd.read_csv(\"Data/SP500.csv\")\n",
    "sp500.set_index('Unnamed: 0', inplace = True)\n",
    "sp500.index.names = ['date']\n",
    "sp500.set_index(pd.to_datetime(sp500.index), inplace = True)\n",
    "\n",
    "sp500[sp500 == np.inf] = 0\n",
    "sp500[sp500 == -np.inf] = 0\n",
    "\n",
    "# Remove MMM because it has weird properties\n",
    "sp500.drop('MMM', axis=1, inplace=True)"
   ]
  },
  {
   "cell_type": "code",
   "execution_count": 7,
   "metadata": {},
   "outputs": [],
   "source": [
    "# Import and touch up indicator data\n",
    "sp500_in = pd.read_csv(\"Data/SP500indicators.csv\")\n",
    "sp500_in.drop('Unnamed: 0', axis=1, inplace = True)\n",
    "sp500_in.set_index(pd.to_datetime(sp500_in['calendardate']), inplace = True)\n",
    "sp500_in.index.names = ['date']\n",
    "sp500_in['year'] = sp500_in.index.year"
   ]
  },
  {
   "cell_type": "code",
   "execution_count": 8,
   "metadata": {},
   "outputs": [],
   "source": [
    "# Cut down S&P 500 to stocks that existed for 8 years\n",
    "sp500_cut = sp500.loc[pd.to_datetime('2011-12-30'):,:]\n",
    "sp500_cut = sp500_cut.dropna(axis =1, how='any')"
   ]
  },
  {
   "cell_type": "code",
   "execution_count": 9,
   "metadata": {},
   "outputs": [],
   "source": [
    "sp500_ar = sp500_cut.groupby(sp500_cut.index.year).sum().mean(axis=1)\n",
    "sp500_ar = np.array(sp500_ar)\n",
    "annual_rets = sp500_cut.groupby(sp500_cut.index.year).sum()\n",
    "excess_rets = annual_rets.subtract(sp500_ar, axis=0)\n",
    "\n",
    "excess_rets = excess_rets.reset_index()\n",
    "excess_rets_melt = pd.melt(excess_rets, id_vars=['date'])\n",
    "excess_rets_melt.rename(columns={'date':'year',\n",
    "                                 'value':'excessreturns', \n",
    "                                 'variable':'ticker'}, \n",
    "                        inplace=True)"
   ]
  },
  {
   "cell_type": "code",
   "execution_count": 10,
   "metadata": {},
   "outputs": [],
   "source": [
    "excess_rets_melt['year'] = excess_rets_melt['year'] + 1"
   ]
  },
  {
   "cell_type": "code",
   "execution_count": 11,
   "metadata": {},
   "outputs": [],
   "source": [
    "sp500_prepped = pd.merge(sp500_in, excess_rets_melt, on = ['year','ticker'], how='left')\n",
    "sp500_prepped = sp500_prepped[np.isfinite(sp500_prepped['excessreturns'])]\n",
    "sp500_prepped = sp500_prepped.assign(beat = [1 if x > 0 else 0 for x in sp500_prepped['excessreturns']])"
   ]
  },
  {
   "cell_type": "code",
   "execution_count": 12,
   "metadata": {},
   "outputs": [],
   "source": [
    "sp500_prepped.dropna(how='any', inplace=True)"
   ]
  },
  {
   "cell_type": "code",
   "execution_count": 14,
   "metadata": {},
   "outputs": [],
   "source": [
    "counts = dict(Counter(sp500_prepped[\"ticker\"]))\n",
    "full_stock = []\n",
    "for ticker, num in counts.items():\n",
    "    if num == 7:\n",
    "        full_stock.append(ticker)\n",
    "\n",
    "sp500_prepped = sp500_prepped[sp500_prepped[\"ticker\"].isin(full_stock)]"
   ]
  },
  {
   "cell_type": "code",
   "execution_count": 15,
   "metadata": {},
   "outputs": [],
   "source": [
    "excludes = ['dimension','calendardate', 'datekey', \n",
    "            'reportperiod','lastupdated','year',\n",
    "            'excessreturns', 'ticker', 'beat']\n",
    "\n",
    "# Weight the information using date. Figure out how to include."
   ]
  },
  {
   "cell_type": "code",
   "execution_count": 16,
   "metadata": {},
   "outputs": [
    {
     "name": "stderr",
     "output_type": "stream",
     "text": [
      "/anaconda3/lib/python3.7/site-packages/pandas/core/frame.py:3940: SettingWithCopyWarning: \n",
      "A value is trying to be set on a copy of a slice from a DataFrame\n",
      "\n",
      "See the caveats in the documentation: http://pandas.pydata.org/pandas-docs/stable/indexing.html#indexing-view-versus-copy\n",
      "  errors=errors)\n"
     ]
    }
   ],
   "source": [
    "# Stratified train-test split\n",
    "X_train = sp500_prepped[sp500_prepped['calendardate'] < '2017-01-01']\n",
    "y_train = X_train['excessreturns']\n",
    "X_train.drop(excludes, axis=1, inplace = True)\n",
    "\n",
    "X_test1 = sp500_prepped[sp500_prepped['calendardate'] == '2017-12-31']\n",
    "y_test1 = X_test1['excessreturns']\n",
    "X_test1.drop(excludes, axis=1, inplace = True)\n",
    "\n",
    "X_test2 = sp500_prepped[sp500_prepped['calendardate'] > '2018-01-01']\n",
    "y_test2 = X_test2['excessreturns']\n",
    "X_test2.drop(excludes, axis=1, inplace = True)"
   ]
  },
  {
   "cell_type": "markdown",
   "metadata": {},
   "source": [
    "# Portfolio Optimization"
   ]
  },
  {
   "cell_type": "code",
   "execution_count": 98,
   "metadata": {},
   "outputs": [],
   "source": [
    "from matplotlib import pyplot as plt\n",
    "\n",
    "# get the MSE of the expected returns and actual returns of ALL weighted portfolios\n",
    "# Compare the MSEs for each model\n",
    "\n",
    "# Rules: no short selling, 20 stocks total\n",
    "def MVA(model, y_train, X_test, y_test):\n",
    "    cov = np.matrix(np.cov(np.split(y_train,250)))\n",
    "    exp_returns = model.predict(X_test)\n",
    "\n",
    "    n1T = [1] * 250\n",
    "    n1 = np.transpose(n1T)\n",
    "    V_inv = np.linalg.inv(cov)\n",
    "    w1 = np.dot(V_inv, exp_returns) / np.dot(np.dot(n1T,V_inv),exp_returns)\n",
    "    w2 = np.dot(V_inv, n1) / np.dot(np.dot(n1T,V_inv),n1)\n",
    "    \n",
    "    port_exp_rets = []\n",
    "    port_sds = []\n",
    "    all_weights = []\n",
    "    all_indices = []\n",
    "    SSE = 0\n",
    "    count = 0\n",
    "    \n",
    "    for p in np.arange(0, 1, .01):\n",
    "        stock_returns = []\n",
    "        \n",
    "        weights = p*w1 + (1-p)*w2\n",
    "        # Remove short positions\n",
    "        weights = [0 if i < 0 else i for i in weights.tolist()[0]]\n",
    "        #  Pick the x/2 highest and the x/2 lowest\n",
    "        indices, weights = x_high_and_low(weights, 20)\n",
    "        # Rebalance weights so they equal 1\n",
    "        total = sum(weights)\n",
    "        weights = [weight / total for weight in weights]\n",
    "        \n",
    "        cov_mat = cov[indices, :]\n",
    "        cov_mat = cov_mat[:, indices]\n",
    "\n",
    "        for j in indices:\n",
    "            stock_returns.append(exp_returns[j])\n",
    "            \n",
    "        test = y_test.reset_index().drop('index', axis = 1)\n",
    "        actual_returns = test.iloc[indices,0]\n",
    "        \n",
    "        actual_return = np.dot(weights, actual_returns)\n",
    "        port_exp_ret = np.dot(weights,stock_returns)\n",
    "        SSE = SSE + (actual_return - port_exp_ret)**2\n",
    "        count = count + 1\n",
    "        \n",
    "        port_exp_rets.append( port_exp_ret )\n",
    "        port_sds.append( (np.dot(np.dot(weights,cov_mat), np.transpose(weights))) )\n",
    "        all_weights.append(weights)\n",
    "        all_indices.append(indices)\n",
    "        \n",
    "    # maybe graph results?\n",
    "    sharpe_ratio = [x/y for x, y in zip(port_exp_rets, port_sds)]\n",
    "    best_portfolio = sharpe_ratio.index(max(sharpe_ratio))\n",
    "    RMSE = np.sqrt(SSE/count)\n",
    "    \n",
    "    # Return the portfolio weights with corresponding tickers?\n",
    "    return RMSE\n",
    "    \n",
    "def x_high_and_low(lst, x):\n",
    "    if x % 2 != 0:\n",
    "        x = x - 1\n",
    "    x = x // 2\n",
    "    \n",
    "    indices = []\n",
    "    values = []\n",
    "    \n",
    "    # x/2 highest\n",
    "    high = sorted(lst, reverse=True)[:x]\n",
    "    for i in high:\n",
    "        indices.append(lst.index(i))\n",
    "        values.append(i)\n",
    "    \n",
    "    # x/2 lowest non-zero\n",
    "    low = filter(lambda a: a != 0, lst)\n",
    "    low = sorted(low)[:x]\n",
    "    for i in low:\n",
    "        indices.append(lst.index(i))\n",
    "        values.append(i)\n",
    "    return indices, values"
   ]
  },
  {
   "cell_type": "markdown",
   "metadata": {},
   "source": [
    "# Model Tuning"
   ]
  },
  {
   "cell_type": "markdown",
   "metadata": {},
   "source": [
    "## Random Forest Regressor"
   ]
  },
  {
   "cell_type": "code",
   "execution_count": 69,
   "metadata": {},
   "outputs": [
    {
     "name": "stdout",
     "output_type": "stream",
     "text": [
      "{'max_depth': 50, 'max_features': 3, 'min_samples_leaf': 4, 'min_samples_split': 10, 'n_estimators': 100}\n",
      "CPU times: user 5.13 s, sys: 1.3 s, total: 6.43 s\n",
      "Wall time: 5min 8s\n"
     ]
    }
   ],
   "source": [
    "%%time\n",
    "\n",
    "from sklearn.ensemble import RandomForestRegressor\n",
    "\n",
    "rf_reg = RandomForestRegressor(random_state = 13)\n",
    "    \n",
    "rf_param_grid = {\n",
    "    'max_depth': [50,60,70,80,90],\n",
    "    'max_features': [2, 3],\n",
    "    'min_samples_leaf': [3, 4, 5],\n",
    "    'min_samples_split': [8, 10, 12],\n",
    "    'n_estimators': [100, 200, 300, 1000]\n",
    "}\n",
    "\n",
    "rf_reg_cv = GridSearchCV(estimator=rf_reg, param_grid=rf_param_grid, cv=3, n_jobs=-1)\n",
    "\n",
    "rf_reg_cv = rf_reg_cv.fit(X_train, y_train)\n",
    "\n",
    "print(rf_reg_cv.best_params_)"
   ]
  },
  {
   "cell_type": "markdown",
   "metadata": {},
   "source": [
    "## Gradient Boosting Regressor"
   ]
  },
  {
   "cell_type": "code",
   "execution_count": 60,
   "metadata": {},
   "outputs": [
    {
     "name": "stdout",
     "output_type": "stream",
     "text": [
      "{'colsample_bytree': 0.4, 'gamma': 0.03, 'learning_rate': 0.1, 'max_depth': 3, 'min_child_weight': 1.5, 'n_estimators': 50, 'reg_alpha': 0.75, 'reg_lambda': 0.45, 'subsample': 0.95}\n",
      "CPU times: user 459 ms, sys: 151 ms, total: 610 ms\n",
      "Wall time: 13.2 s\n"
     ]
    }
   ],
   "source": [
    "%%time\n",
    "\n",
    "from xgboost import XGBRegressor\n",
    "\n",
    "xg_reg = XGBRegressor(random_state = 13)\n",
    "\n",
    "xg_param_grid = {\n",
    "   'colsample_bytree':[0.4],\n",
    "   'gamma':[0.03,0.1],\n",
    "   'min_child_weight':[1.5,3],\n",
    "   'learning_rate':[0.1],\n",
    "   'max_depth':[3,5],\n",
    "   'n_estimators':[50,100,200],\n",
    "   'reg_alpha':[0.75],\n",
    "   'reg_lambda':[0.45],\n",
    "   'subsample':[0.95]  \n",
    "}\n",
    "\n",
    "xg_reg_cv = GridSearchCV(estimator=xg_reg, param_grid=xg_param_grid, cv=3, n_jobs=-1)\n",
    "\n",
    "xg_reg_cv = xg_reg_cv.fit(X_train, y_train)\n",
    "\n",
    "print(xg_reg_cv.best_params_)"
   ]
  },
  {
   "cell_type": "markdown",
   "metadata": {},
   "source": [
    "{\n",
    "    'colsample_bytree': 0.4, \n",
    "    'gamma': 0.03, \n",
    "    'learning_rate': 0.1, \n",
    "    'max_depth': 3, \n",
    "    'min_child_weight': 1.5, \n",
    "    'n_estimators': 50, \n",
    "    'reg_alpha': 0.75, \n",
    "    'reg_lambda': 0.45, \n",
    "    'subsample': 0.95\n",
    "}"
   ]
  },
  {
   "cell_type": "markdown",
   "metadata": {},
   "source": [
    "## KNN Regressor"
   ]
  },
  {
   "cell_type": "code",
   "execution_count": 67,
   "metadata": {},
   "outputs": [
    {
     "name": "stderr",
     "output_type": "stream",
     "text": [
      "/anaconda3/lib/python3.7/site-packages/sklearn/preprocessing/data.py:334: DataConversionWarning: Data with input dtype int64, float64 were all converted to float64 by MinMaxScaler.\n",
      "  return self.partial_fit(X, y)\n",
      "/anaconda3/lib/python3.7/site-packages/sklearn/preprocessing/data.py:334: DataConversionWarning: Data with input dtype int64, float64 were all converted to float64 by MinMaxScaler.\n",
      "  return self.partial_fit(X, y)\n"
     ]
    },
    {
     "name": "stdout",
     "output_type": "stream",
     "text": [
      "{'n_neighbors': 14}\n",
      "CPU times: user 9.71 s, sys: 75.1 ms, total: 9.78 s\n",
      "Wall time: 9.99 s\n"
     ]
    }
   ],
   "source": [
    "%%time\n",
    "\n",
    "from sklearn.preprocessing import MinMaxScaler\n",
    "from sklearn.neighbors import KNeighborsRegressor\n",
    "\n",
    "scaler = MinMaxScaler(feature_range=(0,1))\n",
    "\n",
    "X_train_scaled = scaler.fit_transform(X_train)\n",
    "X_train_scaled = pd.DataFrame(X_train_scaled)\n",
    "\n",
    "X_test_scaled = scaler.fit_transform(X_test)\n",
    "X_test_scaled = pd.DataFrame(X_test_scaled)\n",
    "\n",
    "knn_reg = KNeighborsRegressor()\n",
    "\n",
    "knn_param = {'n_neighbors': np.arange(3,15)}\n",
    "\n",
    "knn_reg_cv = GridSearchCV(estimator=knn_reg, param_grid=knn_param, cv=5)\n",
    "knn_reg_cv = knn_reg_cv.fit(X_train_scaled, y_train)\n",
    "\n",
    "print(knn_reg_cv.best_params_)"
   ]
  },
  {
   "cell_type": "markdown",
   "metadata": {},
   "source": [
    "# Model Testing"
   ]
  },
  {
   "cell_type": "markdown",
   "metadata": {},
   "source": [
    "## Random Forest Regressor"
   ]
  },
  {
   "cell_type": "code",
   "execution_count": 81,
   "metadata": {
    "scrolled": true
   },
   "outputs": [
    {
     "data": {
      "text/plain": [
       "RandomForestRegressor(bootstrap=True, criterion='mse', max_depth=50,\n",
       "           max_features=3, max_leaf_nodes=None, min_impurity_decrease=0.0,\n",
       "           min_impurity_split=None, min_samples_leaf=1,\n",
       "           min_samples_split=10, min_weight_fraction_leaf=0.0,\n",
       "           n_estimators=100, n_jobs=None, oob_score=False, random_state=13,\n",
       "           verbose=0, warm_start=False)"
      ]
     },
     "execution_count": 81,
     "metadata": {},
     "output_type": "execute_result"
    }
   ],
   "source": [
    "from sklearn.ensemble import RandomForestRegressor\n",
    "\n",
    "rf_reg = RandomForestRegressor(random_state = 13, max_depth = 50, \n",
    "            max_features = 3, min_samples_split = 10,\n",
    "            n_estimators = 100)\n",
    "\n",
    "rf_reg.fit(X_train, y_train)"
   ]
  },
  {
   "cell_type": "code",
   "execution_count": 103,
   "metadata": {},
   "outputs": [
    {
     "data": {
      "text/plain": [
       "0.08061000765325503"
      ]
     },
     "execution_count": 103,
     "metadata": {},
     "output_type": "execute_result"
    }
   ],
   "source": [
    "MVA(rf_reg, y_train, X_test1, y_test1)"
   ]
  },
  {
   "cell_type": "code",
   "execution_count": 104,
   "metadata": {},
   "outputs": [
    {
     "data": {
      "text/plain": [
       "0.07395049035665581"
      ]
     },
     "execution_count": 104,
     "metadata": {},
     "output_type": "execute_result"
    }
   ],
   "source": [
    "MVA(rf_reg, y_train, X_test1, y_test1)"
   ]
  },
  {
   "cell_type": "markdown",
   "metadata": {},
   "source": [
    "## Gradient Boosting Regressor"
   ]
  },
  {
   "cell_type": "code",
   "execution_count": 85,
   "metadata": {},
   "outputs": [
    {
     "data": {
      "text/plain": [
       "XGBRegressor(base_score=0.5, booster='gbtree', colsample_bylevel=1,\n",
       "       colsample_bytree=0.4, gamma=0.03, learning_rate=0.1,\n",
       "       max_delta_step=0, max_depth=3, min_child_weight=1.5, missing=None,\n",
       "       n_estimators=50, n_jobs=1, nthread=None, objective='reg:linear',\n",
       "       random_state=13, reg_alpha=0.75, reg_lambda=1, scale_pos_weight=1,\n",
       "       seed=None, silent=True, subsample=0.95)"
      ]
     },
     "execution_count": 85,
     "metadata": {},
     "output_type": "execute_result"
    }
   ],
   "source": [
    "from xgboost import XGBRegressor\n",
    "\n",
    "xg_reg = XGBRegressor(random_state=13, colsample_bytree=0.4, \n",
    "            gamma=0.03, learning_rate=0.1,\n",
    "            max_depth=3, min_child_weight=1.5, \n",
    "            n_estimators=50, reg_alpha=0.75, subsample=0.95)\n",
    "\n",
    "xg_reg.fit(X_train, y_train)"
   ]
  },
  {
   "cell_type": "code",
   "execution_count": 99,
   "metadata": {},
   "outputs": [
    {
     "data": {
      "text/plain": [
       "0.09002786180966796"
      ]
     },
     "execution_count": 99,
     "metadata": {},
     "output_type": "execute_result"
    }
   ],
   "source": [
    "MVA(xg_reg, y_train, X_test1, y_test1)"
   ]
  },
  {
   "cell_type": "code",
   "execution_count": 100,
   "metadata": {},
   "outputs": [
    {
     "data": {
      "text/plain": [
       "0.0940080985044825"
      ]
     },
     "execution_count": 100,
     "metadata": {},
     "output_type": "execute_result"
    }
   ],
   "source": [
    "MVA(xg_reg, y_train, X_test2, y_test2)"
   ]
  },
  {
   "cell_type": "markdown",
   "metadata": {},
   "source": [
    "## KNN Regressor"
   ]
  },
  {
   "cell_type": "code",
   "execution_count": 89,
   "metadata": {},
   "outputs": [
    {
     "name": "stderr",
     "output_type": "stream",
     "text": [
      "/anaconda3/lib/python3.7/site-packages/sklearn/preprocessing/data.py:334: DataConversionWarning: Data with input dtype int64, float64 were all converted to float64 by MinMaxScaler.\n",
      "  return self.partial_fit(X, y)\n",
      "/anaconda3/lib/python3.7/site-packages/sklearn/preprocessing/data.py:334: DataConversionWarning: Data with input dtype int64, float64 were all converted to float64 by MinMaxScaler.\n",
      "  return self.partial_fit(X, y)\n",
      "/anaconda3/lib/python3.7/site-packages/sklearn/preprocessing/data.py:334: DataConversionWarning: Data with input dtype int64, float64 were all converted to float64 by MinMaxScaler.\n",
      "  return self.partial_fit(X, y)\n"
     ]
    },
    {
     "data": {
      "text/plain": [
       "KNeighborsRegressor(algorithm='auto', leaf_size=30, metric='minkowski',\n",
       "          metric_params=None, n_jobs=None, n_neighbors=14, p=2,\n",
       "          weights='uniform')"
      ]
     },
     "execution_count": 89,
     "metadata": {},
     "output_type": "execute_result"
    }
   ],
   "source": [
    "from sklearn.preprocessing import MinMaxScaler\n",
    "from sklearn.neighbors import KNeighborsRegressor\n",
    "\n",
    "scaler = MinMaxScaler(feature_range=(0,1))\n",
    "\n",
    "X_train_scaled = scaler.fit_transform(X_train)\n",
    "X_train_scaled = pd.DataFrame(X_train_scaled)\n",
    "\n",
    "X_test1_scaled = scaler.fit_transform(X_test1)\n",
    "X_test1_scaled = pd.DataFrame(X_test1_scaled)\n",
    "\n",
    "X_test2_scaled = scaler.fit_transform(X_test2)\n",
    "X_test2_scaled = pd.DataFrame(X_test2_scaled)\n",
    "\n",
    "knn_reg = KNeighborsRegressor(n_neighbors=14)\n",
    "\n",
    "knn_reg.fit(X_train, y_train)"
   ]
  },
  {
   "cell_type": "code",
   "execution_count": 101,
   "metadata": {},
   "outputs": [
    {
     "data": {
      "text/plain": [
       "0.12463411177333282"
      ]
     },
     "execution_count": 101,
     "metadata": {},
     "output_type": "execute_result"
    }
   ],
   "source": [
    "MVA(knn_reg, y_train, X_test1, y_test1)"
   ]
  },
  {
   "cell_type": "code",
   "execution_count": 102,
   "metadata": {},
   "outputs": [
    {
     "data": {
      "text/plain": [
       "0.07272829032647138"
      ]
     },
     "execution_count": 102,
     "metadata": {},
     "output_type": "execute_result"
    }
   ],
   "source": [
    "MVA(knn_reg, y_train, X_test2, y_test2)"
   ]
  },
  {
   "cell_type": "code",
   "execution_count": null,
   "metadata": {},
   "outputs": [],
   "source": []
  }
 ],
 "metadata": {
  "kernelspec": {
   "display_name": "Python 3",
   "language": "python",
   "name": "python3"
  },
  "language_info": {
   "codemirror_mode": {
    "name": "ipython",
    "version": 3
   },
   "file_extension": ".py",
   "mimetype": "text/x-python",
   "name": "python",
   "nbconvert_exporter": "python",
   "pygments_lexer": "ipython3",
   "version": "3.7.3"
  }
 },
 "nbformat": 4,
 "nbformat_minor": 2
}
